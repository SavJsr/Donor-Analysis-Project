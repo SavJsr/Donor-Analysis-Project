{
 "cells": [
  {
   "cell_type": "code",
   "execution_count": 1,
   "metadata": {},
   "outputs": [],
   "source": [
    "import pandas as pd\n",
    "import numpy as np\n",
    "import matplotlib.pyplot as plt\n",
    "import sklearn\n",
    "import researchpy as rp"
   ]
  },
  {
   "cell_type": "code",
   "execution_count": 2,
   "metadata": {},
   "outputs": [],
   "source": [
    "data = pd.read_excel(\"SampleDonorData.xlsx\")"
   ]
  },
  {
   "cell_type": "code",
   "execution_count": 3,
   "metadata": {},
   "outputs": [
    {
     "data": {
      "text/html": [
       "<div>\n",
       "<style scoped>\n",
       "    .dataframe tbody tr th:only-of-type {\n",
       "        vertical-align: middle;\n",
       "    }\n",
       "\n",
       "    .dataframe tbody tr th {\n",
       "        vertical-align: top;\n",
       "    }\n",
       "\n",
       "    .dataframe thead th {\n",
       "        text-align: right;\n",
       "    }\n",
       "</style>\n",
       "<table border=\"1\" class=\"dataframe\">\n",
       "  <thead>\n",
       "    <tr style=\"text-align: right;\">\n",
       "      <th></th>\n",
       "      <th>TARGET_B</th>\n",
       "      <th>TARGET_D</th>\n",
       "      <th>CONTROL_NUMBER</th>\n",
       "      <th>MONTHS_SINCE_ORIGIN</th>\n",
       "      <th>DONOR_AGE</th>\n",
       "      <th>IN_HOUSE</th>\n",
       "      <th>URBANICITY</th>\n",
       "      <th>CLUSTER_CODE</th>\n",
       "      <th>HOME_OWNER</th>\n",
       "      <th>DONOR_GENDER</th>\n",
       "      <th>...</th>\n",
       "      <th>PCT_OWNER_OCCUPIED</th>\n",
       "      <th>PEP_STAR</th>\n",
       "      <th>RECENT_STAR_STATUS</th>\n",
       "      <th>recency_freq_status</th>\n",
       "      <th>RECENT_CARD_RESPONSE_PROP</th>\n",
       "      <th>MONTHS_SINCE_LAST_PROM_RESP</th>\n",
       "      <th>LAST_GIFT_AMT</th>\n",
       "      <th>NUMBER_PROM_12</th>\n",
       "      <th>MONTHS_SINCE_LAST_GIFT</th>\n",
       "      <th>MONTHS_SINCE_FIRST_GIFT</th>\n",
       "    </tr>\n",
       "  </thead>\n",
       "  <tbody>\n",
       "    <tr>\n",
       "      <th>0</th>\n",
       "      <td>0</td>\n",
       "      <td>0</td>\n",
       "      <td>89765</td>\n",
       "      <td>77</td>\n",
       "      <td>0.0</td>\n",
       "      <td>0</td>\n",
       "      <td>S</td>\n",
       "      <td>20.0</td>\n",
       "      <td>U</td>\n",
       "      <td>M</td>\n",
       "      <td>...</td>\n",
       "      <td>72</td>\n",
       "      <td>0</td>\n",
       "      <td>0</td>\n",
       "      <td>A3</td>\n",
       "      <td>0.375</td>\n",
       "      <td>21.0</td>\n",
       "      <td>14</td>\n",
       "      <td>13</td>\n",
       "      <td>21</td>\n",
       "      <td>75</td>\n",
       "    </tr>\n",
       "    <tr>\n",
       "      <th>1</th>\n",
       "      <td>0</td>\n",
       "      <td>0</td>\n",
       "      <td>137263</td>\n",
       "      <td>137</td>\n",
       "      <td>0.0</td>\n",
       "      <td>0</td>\n",
       "      <td>C</td>\n",
       "      <td>23.0</td>\n",
       "      <td>H</td>\n",
       "      <td>M</td>\n",
       "      <td>...</td>\n",
       "      <td>97</td>\n",
       "      <td>1</td>\n",
       "      <td>0</td>\n",
       "      <td>A3</td>\n",
       "      <td>0.222</td>\n",
       "      <td>18.0</td>\n",
       "      <td>37</td>\n",
       "      <td>14</td>\n",
       "      <td>18</td>\n",
       "      <td>127</td>\n",
       "    </tr>\n",
       "    <tr>\n",
       "      <th>2</th>\n",
       "      <td>0</td>\n",
       "      <td>0</td>\n",
       "      <td>89966</td>\n",
       "      <td>137</td>\n",
       "      <td>2.0</td>\n",
       "      <td>0</td>\n",
       "      <td>C</td>\n",
       "      <td>23.0</td>\n",
       "      <td>H</td>\n",
       "      <td>M</td>\n",
       "      <td>...</td>\n",
       "      <td>78</td>\n",
       "      <td>1</td>\n",
       "      <td>0</td>\n",
       "      <td>A1</td>\n",
       "      <td>0.125</td>\n",
       "      <td>18.0</td>\n",
       "      <td>12</td>\n",
       "      <td>13</td>\n",
       "      <td>18</td>\n",
       "      <td>129</td>\n",
       "    </tr>\n",
       "    <tr>\n",
       "      <th>3</th>\n",
       "      <td>0</td>\n",
       "      <td>0</td>\n",
       "      <td>100147</td>\n",
       "      <td>137</td>\n",
       "      <td>2.0</td>\n",
       "      <td>0</td>\n",
       "      <td>S</td>\n",
       "      <td>21.0</td>\n",
       "      <td>H</td>\n",
       "      <td>M</td>\n",
       "      <td>...</td>\n",
       "      <td>79</td>\n",
       "      <td>1</td>\n",
       "      <td>0</td>\n",
       "      <td>A2</td>\n",
       "      <td>0.125</td>\n",
       "      <td>17.0</td>\n",
       "      <td>10</td>\n",
       "      <td>7</td>\n",
       "      <td>15</td>\n",
       "      <td>130</td>\n",
       "    </tr>\n",
       "    <tr>\n",
       "      <th>4</th>\n",
       "      <td>0</td>\n",
       "      <td>0</td>\n",
       "      <td>148098</td>\n",
       "      <td>77</td>\n",
       "      <td>2.0</td>\n",
       "      <td>0</td>\n",
       "      <td>S</td>\n",
       "      <td>20.0</td>\n",
       "      <td>H</td>\n",
       "      <td>F</td>\n",
       "      <td>...</td>\n",
       "      <td>42</td>\n",
       "      <td>1</td>\n",
       "      <td>0</td>\n",
       "      <td>A1</td>\n",
       "      <td>0.100</td>\n",
       "      <td>26.0</td>\n",
       "      <td>25</td>\n",
       "      <td>6</td>\n",
       "      <td>26</td>\n",
       "      <td>67</td>\n",
       "    </tr>\n",
       "  </tbody>\n",
       "</table>\n",
       "<p>5 rows × 25 columns</p>\n",
       "</div>"
      ],
      "text/plain": [
       "   TARGET_B  TARGET_D  CONTROL_NUMBER  MONTHS_SINCE_ORIGIN  DONOR_AGE  \\\n",
       "0         0         0           89765                   77        0.0   \n",
       "1         0         0          137263                  137        0.0   \n",
       "2         0         0           89966                  137        2.0   \n",
       "3         0         0          100147                  137        2.0   \n",
       "4         0         0          148098                   77        2.0   \n",
       "\n",
       "   IN_HOUSE URBANICITY  CLUSTER_CODE HOME_OWNER DONOR_GENDER  \\\n",
       "0         0          S          20.0          U            M   \n",
       "1         0          C          23.0          H            M   \n",
       "2         0          C          23.0          H            M   \n",
       "3         0          S          21.0          H            M   \n",
       "4         0          S          20.0          H            F   \n",
       "\n",
       "            ...             PCT_OWNER_OCCUPIED  PEP_STAR  RECENT_STAR_STATUS  \\\n",
       "0           ...                             72         0                   0   \n",
       "1           ...                             97         1                   0   \n",
       "2           ...                             78         1                   0   \n",
       "3           ...                             79         1                   0   \n",
       "4           ...                             42         1                   0   \n",
       "\n",
       "   recency_freq_status  RECENT_CARD_RESPONSE_PROP  \\\n",
       "0                   A3                      0.375   \n",
       "1                   A3                      0.222   \n",
       "2                   A1                      0.125   \n",
       "3                   A2                      0.125   \n",
       "4                   A1                      0.100   \n",
       "\n",
       "   MONTHS_SINCE_LAST_PROM_RESP  LAST_GIFT_AMT  NUMBER_PROM_12  \\\n",
       "0                         21.0             14              13   \n",
       "1                         18.0             37              14   \n",
       "2                         18.0             12              13   \n",
       "3                         17.0             10               7   \n",
       "4                         26.0             25               6   \n",
       "\n",
       "  MONTHS_SINCE_LAST_GIFT  MONTHS_SINCE_FIRST_GIFT  \n",
       "0                     21                       75  \n",
       "1                     18                      127  \n",
       "2                     18                      129  \n",
       "3                     15                      130  \n",
       "4                     26                       67  \n",
       "\n",
       "[5 rows x 25 columns]"
      ]
     },
     "execution_count": 3,
     "metadata": {},
     "output_type": "execute_result"
    }
   ],
   "source": [
    "data.head(5)"
   ]
  },
  {
   "cell_type": "code",
   "execution_count": 4,
   "metadata": {},
   "outputs": [
    {
     "name": "stdout",
     "output_type": "stream",
     "text": [
      "<class 'pandas.core.frame.DataFrame'>\n",
      "RangeIndex: 19372 entries, 0 to 19371\n",
      "Data columns (total 25 columns):\n",
      "TARGET_B                       19372 non-null int64\n",
      "TARGET_D                       19372 non-null int64\n",
      "CONTROL_NUMBER                 19372 non-null int64\n",
      "MONTHS_SINCE_ORIGIN            19372 non-null int64\n",
      "DONOR_AGE                      14577 non-null float64\n",
      "IN_HOUSE                       19372 non-null int64\n",
      "URBANICITY                     19372 non-null object\n",
      "CLUSTER_CODE                   18918 non-null float64\n",
      "HOME_OWNER                     19372 non-null object\n",
      "DONOR_GENDER                   19372 non-null object\n",
      "INCOME_GROUP                   14980 non-null float64\n",
      "PUBLISHED_PHONE                19372 non-null int64\n",
      "WEALTH_RATING                  10562 non-null float64\n",
      "MEDIAN_HOME_VALUE              19372 non-null int64\n",
      "MEDIAN_HOUSEHOLD_INCOME        19372 non-null int64\n",
      "PCT_OWNER_OCCUPIED             19372 non-null int64\n",
      "PEP_STAR                       19372 non-null int64\n",
      "RECENT_STAR_STATUS             19372 non-null int64\n",
      "recency_freq_status            19372 non-null object\n",
      "RECENT_CARD_RESPONSE_PROP      19372 non-null float64\n",
      "MONTHS_SINCE_LAST_PROM_RESP    19126 non-null float64\n",
      "LAST_GIFT_AMT                  19372 non-null int64\n",
      "NUMBER_PROM_12                 19372 non-null int64\n",
      "MONTHS_SINCE_LAST_GIFT         19372 non-null int64\n",
      "MONTHS_SINCE_FIRST_GIFT        19372 non-null int64\n",
      "dtypes: float64(6), int64(15), object(4)\n",
      "memory usage: 3.7+ MB\n"
     ]
    }
   ],
   "source": [
    "data.info()"
   ]
  },
  {
   "cell_type": "markdown",
   "metadata": {},
   "source": [
    "# Question 1 - Create a Histogram for a continuous variable\n"
   ]
  },
  {
   "cell_type": "code",
   "execution_count": 5,
   "metadata": {},
   "outputs": [
    {
     "data": {
      "image/png": "[encoded data removed]",
      "text/plain": [
       "<Figure size 432x288 with 1 Axes>"
      ]
     },
     "metadata": {},
     "output_type": "display_data"
    }
   ],
   "source": [
    "x = np.array(data['MEDIAN_HOME_VALUE'])\n",
    "plt.hist(x,bins='auto')\n",
    "plt.show()"
   ]
  },
  {
   "cell_type": "code",
   "execution_count": 6,
   "metadata": {},
   "outputs": [],
   "source": [
    "y = x[np.nonzero(x)]"
   ]
  },
  {
   "cell_type": "code",
   "execution_count": 7,
   "metadata": {},
   "outputs": [
    {
     "name": "stdout",
     "output_type": "stream",
     "text": [
      "1079.8719285566797\n"
     ]
    }
   ],
   "source": [
    "mean_HousePrice = np.mean(x)\n",
    "print(mean_HousePrice)"
   ]
  },
  {
   "cell_type": "code",
   "execution_count": 8,
   "metadata": {},
   "outputs": [
    {
     "name": "stdout",
     "output_type": "stream",
     "text": [
      "747.0\n"
     ]
    }
   ],
   "source": [
    "median_HousePrice = np.median(x)\n",
    "print(median_HousePrice)"
   ]
  },
  {
   "cell_type": "code",
   "execution_count": 9,
   "metadata": {},
   "outputs": [
    {
     "name": "stdout",
     "output_type": "stream",
     "text": [
      "960.7286505665088\n"
     ]
    }
   ],
   "source": [
    "std_dev_HousePrice = np.std(x)\n",
    "print(std_dev_HousePrice)"
   ]
  },
  {
   "cell_type": "code",
   "execution_count": 10,
   "metadata": {},
   "outputs": [],
   "source": [
    "from scipy import stats"
   ]
  },
  {
   "cell_type": "code",
   "execution_count": 11,
   "metadata": {},
   "outputs": [
    {
     "name": "stdout",
     "output_type": "stream",
     "text": [
      "(1019.6277304019221, 1140.1161267114371)\n"
     ]
    }
   ],
   "source": [
    "ConfInt = stats.norm.interval(0.05,loc=mean_HousePrice,scale=std_dev_HousePrice)\n",
    "print(ConfInt)"
   ]
  },
  {
   "cell_type": "markdown",
   "metadata": {},
   "source": [
    "# Question 2 - Create a Correlation matrix for all continuous variables and Chi-square test of association for all categorical variables"
   ]
  },
  {
   "cell_type": "code",
   "execution_count": 12,
   "metadata": {},
   "outputs": [
    {
     "data": {
      "text/plain": [
       "Index(['TARGET_B', 'TARGET_D', 'CONTROL_NUMBER', 'MONTHS_SINCE_ORIGIN',\n",
       "       'DONOR_AGE', 'IN_HOUSE', 'URBANICITY', 'CLUSTER_CODE', 'HOME_OWNER',\n",
       "       'DONOR_GENDER', 'INCOME_GROUP', 'PUBLISHED_PHONE', 'WEALTH_RATING',\n",
       "       'MEDIAN_HOME_VALUE', 'MEDIAN_HOUSEHOLD_INCOME', 'PCT_OWNER_OCCUPIED',\n",
       "       'PEP_STAR', 'RECENT_STAR_STATUS', 'recency_freq_status',\n",
       "       'RECENT_CARD_RESPONSE_PROP', 'MONTHS_SINCE_LAST_PROM_RESP',\n",
       "       'LAST_GIFT_AMT', 'NUMBER_PROM_12', 'MONTHS_SINCE_LAST_GIFT',\n",
       "       'MONTHS_SINCE_FIRST_GIFT'],\n",
       "      dtype='object')"
      ]
     },
     "execution_count": 12,
     "metadata": {},
     "output_type": "execute_result"
    }
   ],
   "source": [
    "data.columns"
   ]
  },
  {
   "cell_type": "markdown",
   "metadata": {},
   "source": [
    "<font size = 3, color=red> Based on the explanantion provided in data dictionary, some of the columns are read as 'int64' although they are categorical or ordinal variables. Converting them to categorical would be appropriate beofre proceeding for any analysis </font>"
   ]
  },
  {
   "cell_type": "code",
   "execution_count": 13,
   "metadata": {},
   "outputs": [],
   "source": [
    "columns_as_category = ['TARGET_B','CONTROL_NUMBER','IN_HOUSE','CLUSTER_CODE','INCOME_GROUP','PUBLISHED_PHONE','WEALTH_RATING','RECENT_STAR_STATUS','PEP_STAR']"
   ]
  },
  {
   "cell_type": "code",
   "execution_count": 14,
   "metadata": {},
   "outputs": [],
   "source": [
    "data[columns_as_category] = data[columns_as_category].astype('object')"
   ]
  },
  {
   "cell_type": "code",
   "execution_count": 15,
   "metadata": {},
   "outputs": [],
   "source": [
    "num_var = data.select_dtypes(exclude='object')\n",
    "cat_var = data.select_dtypes(include='object')"
   ]
  },
  {
   "cell_type": "code",
   "execution_count": 16,
   "metadata": {},
   "outputs": [
    {
     "name": "stdout",
     "output_type": "stream",
     "text": [
      "<class 'pandas.core.frame.DataFrame'>\n",
      "RangeIndex: 19372 entries, 0 to 19371\n",
      "Data columns (total 12 columns):\n",
      "TARGET_D                       19372 non-null int64\n",
      "MONTHS_SINCE_ORIGIN            19372 non-null int64\n",
      "DONOR_AGE                      14577 non-null float64\n",
      "MEDIAN_HOME_VALUE              19372 non-null int64\n",
      "MEDIAN_HOUSEHOLD_INCOME        19372 non-null int64\n",
      "PCT_OWNER_OCCUPIED             19372 non-null int64\n",
      "RECENT_CARD_RESPONSE_PROP      19372 non-null float64\n",
      "MONTHS_SINCE_LAST_PROM_RESP    19126 non-null float64\n",
      "LAST_GIFT_AMT                  19372 non-null int64\n",
      "NUMBER_PROM_12                 19372 non-null int64\n",
      "MONTHS_SINCE_LAST_GIFT         19372 non-null int64\n",
      "MONTHS_SINCE_FIRST_GIFT        19372 non-null int64\n",
      "dtypes: float64(3), int64(9)\n",
      "memory usage: 1.8 MB\n"
     ]
    }
   ],
   "source": [
    "num_var.info()"
   ]
  },
  {
   "cell_type": "code",
   "execution_count": 17,
   "metadata": {},
   "outputs": [
    {
     "name": "stderr",
     "output_type": "stream",
     "text": [
      "C:\\Users\\vijay\\AppData\\Local\\Continuum\\anaconda3\\lib\\site-packages\\pandas\\core\\generic.py:5434: SettingWithCopyWarning: \n",
      "A value is trying to be set on a copy of a slice from a DataFrame\n",
      "\n",
      "See the caveats in the documentation: http://pandas.pydata.org/pandas-docs/stable/indexing.html#indexing-view-versus-copy\n",
      "  self._update_inplace(new_data)\n"
     ]
    }
   ],
   "source": [
    "for col in num_var.columns:\n",
    "    num_var[col].fillna(num_var[col].mean(),inplace=True)"
   ]
  },
  {
   "cell_type": "code",
   "execution_count": 18,
   "metadata": {},
   "outputs": [
    {
     "data": {
      "text/plain": [
       "<matplotlib.axes._subplots.AxesSubplot at 0x2593ba84a90>"
      ]
     },
     "execution_count": 18,
     "metadata": {},
     "output_type": "execute_result"
    },
    {
     "data": {
      "image/png": "[encoded data removed]",
      "text/plain": [
       "<Figure size 432x288 with 2 Axes>"
      ]
     },
     "metadata": {},
     "output_type": "display_data"
    }
   ],
   "source": [
    "import seaborn as sns\n",
    "corr = num_var.corr()\n",
    "sns.heatmap(corr, \n",
    "            xticklabels=corr.columns.values,\n",
    "            yticklabels=corr.columns.values)"
   ]
  },
  {
   "cell_type": "code",
   "execution_count": 19,
   "metadata": {},
   "outputs": [
    {
     "name": "stdout",
     "output_type": "stream",
     "text": [
      "<class 'pandas.core.frame.DataFrame'>\n",
      "RangeIndex: 19372 entries, 0 to 19371\n",
      "Data columns (total 13 columns):\n",
      "TARGET_B               19372 non-null object\n",
      "CONTROL_NUMBER         19372 non-null object\n",
      "IN_HOUSE               19372 non-null object\n",
      "URBANICITY             19372 non-null object\n",
      "CLUSTER_CODE           18918 non-null object\n",
      "HOME_OWNER             19372 non-null object\n",
      "DONOR_GENDER           19372 non-null object\n",
      "INCOME_GROUP           14980 non-null object\n",
      "PUBLISHED_PHONE        19372 non-null object\n",
      "WEALTH_RATING          10562 non-null object\n",
      "PEP_STAR               19372 non-null object\n",
      "RECENT_STAR_STATUS     19372 non-null object\n",
      "recency_freq_status    19372 non-null object\n",
      "dtypes: object(13)\n",
      "memory usage: 1.9+ MB\n"
     ]
    }
   ],
   "source": [
    "cat_var.info()"
   ]
  },
  {
   "cell_type": "code",
   "execution_count": 20,
   "metadata": {},
   "outputs": [
    {
     "name": "stderr",
     "output_type": "stream",
     "text": [
      "C:\\Users\\vijay\\AppData\\Local\\Continuum\\anaconda3\\lib\\site-packages\\pandas\\core\\generic.py:5434: SettingWithCopyWarning: \n",
      "A value is trying to be set on a copy of a slice from a DataFrame\n",
      "\n",
      "See the caveats in the documentation: http://pandas.pydata.org/pandas-docs/stable/indexing.html#indexing-view-versus-copy\n",
      "  self._update_inplace(new_data)\n"
     ]
    }
   ],
   "source": [
    "for col in cat_var.columns:\n",
    "    cat_var[col].fillna(cat_var[col].mode()[0],inplace=True)"
   ]
  },
  {
   "cell_type": "code",
   "execution_count": 21,
   "metadata": {},
   "outputs": [],
   "source": [
    "cat_var=cat_var.astype('category')"
   ]
  },
  {
   "cell_type": "code",
   "execution_count": 22,
   "metadata": {},
   "outputs": [],
   "source": [
    "cat_var = cat_var.drop(columns=['CONTROL_NUMBER'],axis=1)"
   ]
  },
  {
   "cell_type": "code",
   "execution_count": 23,
   "metadata": {},
   "outputs": [],
   "source": [
    "df_p = pd.DataFrame()  # Matrix of p-values\n",
    "for x in cat_var.columns:\n",
    "    for y in cat_var.columns:\n",
    "        table, results = rp.crosstab(cat_var[x], cat_var[y], prop= 'col', test= 'chi-square')\n",
    "        df_p.loc[x,y] = results.results[1]"
   ]
  },
  {
   "cell_type": "code",
   "execution_count": 24,
   "metadata": {
    "scrolled": true
   },
   "outputs": [
    {
     "data": {
      "text/html": [
       "<div>\n",
       "<style scoped>\n",
       "    .dataframe tbody tr th:only-of-type {\n",
       "        vertical-align: middle;\n",
       "    }\n",
       "\n",
       "    .dataframe tbody tr th {\n",
       "        vertical-align: top;\n",
       "    }\n",
       "\n",
       "    .dataframe thead th {\n",
       "        text-align: right;\n",
       "    }\n",
       "</style>\n",
       "<table border=\"1\" class=\"dataframe\">\n",
       "  <thead>\n",
       "    <tr style=\"text-align: right;\">\n",
       "      <th></th>\n",
       "      <th>TARGET_B</th>\n",
       "      <th>IN_HOUSE</th>\n",
       "      <th>URBANICITY</th>\n",
       "      <th>CLUSTER_CODE</th>\n",
       "      <th>HOME_OWNER</th>\n",
       "      <th>DONOR_GENDER</th>\n",
       "      <th>INCOME_GROUP</th>\n",
       "      <th>PUBLISHED_PHONE</th>\n",
       "      <th>WEALTH_RATING</th>\n",
       "      <th>PEP_STAR</th>\n",
       "      <th>RECENT_STAR_STATUS</th>\n",
       "      <th>recency_freq_status</th>\n",
       "    </tr>\n",
       "  </thead>\n",
       "  <tbody>\n",
       "    <tr>\n",
       "      <th>TARGET_B</th>\n",
       "      <td>0.0000</td>\n",
       "      <td>0.0000</td>\n",
       "      <td>0.0002</td>\n",
       "      <td>0.0000</td>\n",
       "      <td>0.0596</td>\n",
       "      <td>0.1738</td>\n",
       "      <td>0.0001</td>\n",
       "      <td>0.6542</td>\n",
       "      <td>0.0025</td>\n",
       "      <td>0.0000</td>\n",
       "      <td>0.0000</td>\n",
       "      <td>0.0000</td>\n",
       "    </tr>\n",
       "    <tr>\n",
       "      <th>IN_HOUSE</th>\n",
       "      <td>0.0000</td>\n",
       "      <td>0.0000</td>\n",
       "      <td>0.0000</td>\n",
       "      <td>0.0000</td>\n",
       "      <td>0.0000</td>\n",
       "      <td>0.0000</td>\n",
       "      <td>0.0000</td>\n",
       "      <td>0.2002</td>\n",
       "      <td>0.0000</td>\n",
       "      <td>0.0000</td>\n",
       "      <td>0.0000</td>\n",
       "      <td>0.0000</td>\n",
       "    </tr>\n",
       "    <tr>\n",
       "      <th>URBANICITY</th>\n",
       "      <td>0.0002</td>\n",
       "      <td>0.0000</td>\n",
       "      <td>0.0000</td>\n",
       "      <td>0.0000</td>\n",
       "      <td>0.0000</td>\n",
       "      <td>0.0000</td>\n",
       "      <td>0.0000</td>\n",
       "      <td>0.0000</td>\n",
       "      <td>0.0000</td>\n",
       "      <td>0.0000</td>\n",
       "      <td>0.0000</td>\n",
       "      <td>0.0000</td>\n",
       "    </tr>\n",
       "    <tr>\n",
       "      <th>CLUSTER_CODE</th>\n",
       "      <td>0.0000</td>\n",
       "      <td>0.0000</td>\n",
       "      <td>0.0000</td>\n",
       "      <td>0.0000</td>\n",
       "      <td>0.0000</td>\n",
       "      <td>0.0073</td>\n",
       "      <td>0.0000</td>\n",
       "      <td>0.0000</td>\n",
       "      <td>0.0000</td>\n",
       "      <td>0.0000</td>\n",
       "      <td>0.0000</td>\n",
       "      <td>0.0000</td>\n",
       "    </tr>\n",
       "    <tr>\n",
       "      <th>HOME_OWNER</th>\n",
       "      <td>0.0596</td>\n",
       "      <td>0.0000</td>\n",
       "      <td>0.0000</td>\n",
       "      <td>0.0000</td>\n",
       "      <td>0.0000</td>\n",
       "      <td>0.0000</td>\n",
       "      <td>0.0000</td>\n",
       "      <td>0.0000</td>\n",
       "      <td>0.0000</td>\n",
       "      <td>0.0936</td>\n",
       "      <td>0.0011</td>\n",
       "      <td>0.0000</td>\n",
       "    </tr>\n",
       "    <tr>\n",
       "      <th>DONOR_GENDER</th>\n",
       "      <td>0.1738</td>\n",
       "      <td>0.0000</td>\n",
       "      <td>0.0000</td>\n",
       "      <td>0.0073</td>\n",
       "      <td>0.0000</td>\n",
       "      <td>0.0000</td>\n",
       "      <td>0.0000</td>\n",
       "      <td>0.0000</td>\n",
       "      <td>0.0454</td>\n",
       "      <td>0.0000</td>\n",
       "      <td>0.0086</td>\n",
       "      <td>0.0000</td>\n",
       "    </tr>\n",
       "    <tr>\n",
       "      <th>INCOME_GROUP</th>\n",
       "      <td>0.0001</td>\n",
       "      <td>0.0000</td>\n",
       "      <td>0.0000</td>\n",
       "      <td>0.0000</td>\n",
       "      <td>0.0000</td>\n",
       "      <td>0.0000</td>\n",
       "      <td>0.0000</td>\n",
       "      <td>0.0000</td>\n",
       "      <td>0.0000</td>\n",
       "      <td>0.0000</td>\n",
       "      <td>0.0000</td>\n",
       "      <td>0.0000</td>\n",
       "    </tr>\n",
       "    <tr>\n",
       "      <th>PUBLISHED_PHONE</th>\n",
       "      <td>0.6542</td>\n",
       "      <td>0.2002</td>\n",
       "      <td>0.0000</td>\n",
       "      <td>0.0000</td>\n",
       "      <td>0.0000</td>\n",
       "      <td>0.0000</td>\n",
       "      <td>0.0000</td>\n",
       "      <td>0.0000</td>\n",
       "      <td>0.0000</td>\n",
       "      <td>0.0000</td>\n",
       "      <td>0.3638</td>\n",
       "      <td>0.0003</td>\n",
       "    </tr>\n",
       "    <tr>\n",
       "      <th>WEALTH_RATING</th>\n",
       "      <td>0.0025</td>\n",
       "      <td>0.0000</td>\n",
       "      <td>0.0000</td>\n",
       "      <td>0.0000</td>\n",
       "      <td>0.0000</td>\n",
       "      <td>0.0454</td>\n",
       "      <td>0.0000</td>\n",
       "      <td>0.0000</td>\n",
       "      <td>0.0000</td>\n",
       "      <td>0.0000</td>\n",
       "      <td>0.0000</td>\n",
       "      <td>0.0000</td>\n",
       "    </tr>\n",
       "    <tr>\n",
       "      <th>PEP_STAR</th>\n",
       "      <td>0.0000</td>\n",
       "      <td>0.0000</td>\n",
       "      <td>0.0000</td>\n",
       "      <td>0.0000</td>\n",
       "      <td>0.0936</td>\n",
       "      <td>0.0000</td>\n",
       "      <td>0.0000</td>\n",
       "      <td>0.0000</td>\n",
       "      <td>0.0000</td>\n",
       "      <td>0.0000</td>\n",
       "      <td>0.0000</td>\n",
       "      <td>0.0000</td>\n",
       "    </tr>\n",
       "    <tr>\n",
       "      <th>RECENT_STAR_STATUS</th>\n",
       "      <td>0.0000</td>\n",
       "      <td>0.0000</td>\n",
       "      <td>0.0000</td>\n",
       "      <td>0.0000</td>\n",
       "      <td>0.0011</td>\n",
       "      <td>0.0086</td>\n",
       "      <td>0.0000</td>\n",
       "      <td>0.3638</td>\n",
       "      <td>0.0000</td>\n",
       "      <td>0.0000</td>\n",
       "      <td>0.0000</td>\n",
       "      <td>0.0000</td>\n",
       "    </tr>\n",
       "    <tr>\n",
       "      <th>recency_freq_status</th>\n",
       "      <td>0.0000</td>\n",
       "      <td>0.0000</td>\n",
       "      <td>0.0000</td>\n",
       "      <td>0.0000</td>\n",
       "      <td>0.0000</td>\n",
       "      <td>0.0000</td>\n",
       "      <td>0.0000</td>\n",
       "      <td>0.0003</td>\n",
       "      <td>0.0000</td>\n",
       "      <td>0.0000</td>\n",
       "      <td>0.0000</td>\n",
       "      <td>0.0000</td>\n",
       "    </tr>\n",
       "  </tbody>\n",
       "</table>\n",
       "</div>"
      ],
      "text/plain": [
       "                     TARGET_B  IN_HOUSE  URBANICITY  CLUSTER_CODE  HOME_OWNER  \\\n",
       "TARGET_B               0.0000    0.0000      0.0002        0.0000      0.0596   \n",
       "IN_HOUSE               0.0000    0.0000      0.0000        0.0000      0.0000   \n",
       "URBANICITY             0.0002    0.0000      0.0000        0.0000      0.0000   \n",
       "CLUSTER_CODE           0.0000    0.0000      0.0000        0.0000      0.0000   \n",
       "HOME_OWNER             0.0596    0.0000      0.0000        0.0000      0.0000   \n",
       "DONOR_GENDER           0.1738    0.0000      0.0000        0.0073      0.0000   \n",
       "INCOME_GROUP           0.0001    0.0000      0.0000        0.0000      0.0000   \n",
       "PUBLISHED_PHONE        0.6542    0.2002      0.0000        0.0000      0.0000   \n",
       "WEALTH_RATING          0.0025    0.0000      0.0000        0.0000      0.0000   \n",
       "PEP_STAR               0.0000    0.0000      0.0000        0.0000      0.0936   \n",
       "RECENT_STAR_STATUS     0.0000    0.0000      0.0000        0.0000      0.0011   \n",
       "recency_freq_status    0.0000    0.0000      0.0000        0.0000      0.0000   \n",
       "\n",
       "                     DONOR_GENDER  INCOME_GROUP  PUBLISHED_PHONE  \\\n",
       "TARGET_B                   0.1738        0.0001           0.6542   \n",
       "IN_HOUSE                   0.0000        0.0000           0.2002   \n",
       "URBANICITY                 0.0000        0.0000           0.0000   \n",
       "CLUSTER_CODE               0.0073        0.0000           0.0000   \n",
       "HOME_OWNER                 0.0000        0.0000           0.0000   \n",
       "DONOR_GENDER               0.0000        0.0000           0.0000   \n",
       "INCOME_GROUP               0.0000        0.0000           0.0000   \n",
       "PUBLISHED_PHONE            0.0000        0.0000           0.0000   \n",
       "WEALTH_RATING              0.0454        0.0000           0.0000   \n",
       "PEP_STAR                   0.0000        0.0000           0.0000   \n",
       "RECENT_STAR_STATUS         0.0086        0.0000           0.3638   \n",
       "recency_freq_status        0.0000        0.0000           0.0003   \n",
       "\n",
       "                     WEALTH_RATING  PEP_STAR  RECENT_STAR_STATUS  \\\n",
       "TARGET_B                    0.0025    0.0000              0.0000   \n",
       "IN_HOUSE                    0.0000    0.0000              0.0000   \n",
       "URBANICITY                  0.0000    0.0000              0.0000   \n",
       "CLUSTER_CODE                0.0000    0.0000              0.0000   \n",
       "HOME_OWNER                  0.0000    0.0936              0.0011   \n",
       "DONOR_GENDER                0.0454    0.0000              0.0086   \n",
       "INCOME_GROUP                0.0000    0.0000              0.0000   \n",
       "PUBLISHED_PHONE             0.0000    0.0000              0.3638   \n",
       "WEALTH_RATING               0.0000    0.0000              0.0000   \n",
       "PEP_STAR                    0.0000    0.0000              0.0000   \n",
       "RECENT_STAR_STATUS          0.0000    0.0000              0.0000   \n",
       "recency_freq_status         0.0000    0.0000              0.0000   \n",
       "\n",
       "                     recency_freq_status  \n",
       "TARGET_B                          0.0000  \n",
       "IN_HOUSE                          0.0000  \n",
       "URBANICITY                        0.0000  \n",
       "CLUSTER_CODE                      0.0000  \n",
       "HOME_OWNER                        0.0000  \n",
       "DONOR_GENDER                      0.0000  \n",
       "INCOME_GROUP                      0.0000  \n",
       "PUBLISHED_PHONE                   0.0003  \n",
       "WEALTH_RATING                     0.0000  \n",
       "PEP_STAR                          0.0000  \n",
       "RECENT_STAR_STATUS                0.0000  \n",
       "recency_freq_status               0.0000  "
      ]
     },
     "execution_count": 24,
     "metadata": {},
     "output_type": "execute_result"
    }
   ],
   "source": [
    "df_p"
   ]
  },
  {
   "cell_type": "markdown",
   "metadata": {},
   "source": [
    "<font size=3, color=red> Almost all variables are strongly associated with each other. this would cause stron multicollinearity in the data set while running an OLS regression. </font>"
   ]
  },
  {
   "cell_type": "code",
   "execution_count": 25,
   "metadata": {},
   "outputs": [],
   "source": [
    "data_join = pd.concat([num_var,cat_var],axis=1)"
   ]
  },
  {
   "cell_type": "code",
   "execution_count": 26,
   "metadata": {},
   "outputs": [
    {
     "name": "stdout",
     "output_type": "stream",
     "text": [
      "<class 'pandas.core.frame.DataFrame'>\n",
      "RangeIndex: 19372 entries, 0 to 19371\n",
      "Data columns (total 24 columns):\n",
      "TARGET_D                       19372 non-null int64\n",
      "MONTHS_SINCE_ORIGIN            19372 non-null int64\n",
      "DONOR_AGE                      19372 non-null float64\n",
      "MEDIAN_HOME_VALUE              19372 non-null int64\n",
      "MEDIAN_HOUSEHOLD_INCOME        19372 non-null int64\n",
      "PCT_OWNER_OCCUPIED             19372 non-null int64\n",
      "RECENT_CARD_RESPONSE_PROP      19372 non-null float64\n",
      "MONTHS_SINCE_LAST_PROM_RESP    19372 non-null float64\n",
      "LAST_GIFT_AMT                  19372 non-null int64\n",
      "NUMBER_PROM_12                 19372 non-null int64\n",
      "MONTHS_SINCE_LAST_GIFT         19372 non-null int64\n",
      "MONTHS_SINCE_FIRST_GIFT        19372 non-null int64\n",
      "TARGET_B                       19372 non-null category\n",
      "IN_HOUSE                       19372 non-null category\n",
      "URBANICITY                     19372 non-null category\n",
      "CLUSTER_CODE                   19372 non-null category\n",
      "HOME_OWNER                     19372 non-null category\n",
      "DONOR_GENDER                   19372 non-null category\n",
      "INCOME_GROUP                   19372 non-null category\n",
      "PUBLISHED_PHONE                19372 non-null category\n",
      "WEALTH_RATING                  19372 non-null category\n",
      "PEP_STAR                       19372 non-null category\n",
      "RECENT_STAR_STATUS             19372 non-null category\n",
      "recency_freq_status            19372 non-null category\n",
      "dtypes: category(12), float64(3), int64(9)\n",
      "memory usage: 2.0 MB\n"
     ]
    }
   ],
   "source": [
    "data_join.info()"
   ]
  },
  {
   "cell_type": "markdown",
   "metadata": {},
   "source": [
    "# Question 3 - Build a Linear Regression Model using a target and predictor variables "
   ]
  },
  {
   "cell_type": "code",
   "execution_count": 27,
   "metadata": {},
   "outputs": [],
   "source": [
    "#check correlation for dropping variables which are highly correlated\n",
    "\n",
    "corr_matrix = data_join.corr().abs()\n",
    "# Select upper triangle of correlation matrix\n",
    "upper = corr_matrix.where(np.triu(np.ones(corr_matrix.shape), k=1).astype(np.bool))\n",
    "# Find index of feature columns with correlation greater than 0.95\n",
    "to_drop = [column for column in upper.columns if any(upper[column] > 0.90)]"
   ]
  },
  {
   "cell_type": "code",
   "execution_count": 28,
   "metadata": {},
   "outputs": [
    {
     "data": {
      "text/plain": [
       "['MONTHS_SINCE_FIRST_GIFT']"
      ]
     },
     "execution_count": 28,
     "metadata": {},
     "output_type": "execute_result"
    }
   ],
   "source": [
    "to_drop"
   ]
  },
  {
   "cell_type": "code",
   "execution_count": 29,
   "metadata": {},
   "outputs": [],
   "source": [
    "data_join = data_join.drop(to_drop, axis=1)"
   ]
  },
  {
   "cell_type": "code",
   "execution_count": 32,
   "metadata": {},
   "outputs": [],
   "source": [
    "X_data = data_join.drop(columns=['TARGET_B','TARGET_D'])\n",
    "y_data = data_join['TARGET_D']"
   ]
  },
  {
   "cell_type": "code",
   "execution_count": 33,
   "metadata": {},
   "outputs": [],
   "source": [
    "X_data_dum = pd.DataFrame(pd.get_dummies(X_data,drop_first= True))"
   ]
  },
  {
   "cell_type": "code",
   "execution_count": 34,
   "metadata": {},
   "outputs": [],
   "source": [
    "from sklearn.model_selection import train_test_split\n",
    "X_data_train,X_data_test, y_data_train, y_data_test = train_test_split(X_data_dum, y_data, shuffle = True, test_size = 0.3, random_state=42)"
   ]
  },
  {
   "cell_type": "code",
   "execution_count": 35,
   "metadata": {},
   "outputs": [
    {
     "name": "stderr",
     "output_type": "stream",
     "text": [
      "C:\\Users\\vijay\\AppData\\Local\\Continuum\\anaconda3\\lib\\site-packages\\sklearn\\preprocessing\\data.py:323: DataConversionWarning: Data with input dtype uint8, int64, float64 were all converted to float64 by MinMaxScaler.\n",
      "  return self.partial_fit(X, y)\n",
      "C:\\Users\\vijay\\AppData\\Local\\Continuum\\anaconda3\\lib\\site-packages\\sklearn\\preprocessing\\data.py:323: DataConversionWarning: Data with input dtype uint8, int64, float64 were all converted to float64 by MinMaxScaler.\n",
      "  return self.partial_fit(X, y)\n"
     ]
    }
   ],
   "source": [
    "from sklearn.preprocessing import MinMaxScaler\n",
    "scaler = MinMaxScaler()\n",
    "X_data_train = scaler.fit_transform(X_data_train)\n",
    "X_data_test = scaler.fit_transform(X_data_test)"
   ]
  },
  {
   "cell_type": "markdown",
   "metadata": {},
   "source": [
    "<font size=3, color=red>Linear Regression using the statsmodel, since the sklearnpackage does not give p-values for different paramaters for significance testing </font>"
   ]
  },
  {
   "cell_type": "code",
   "execution_count": 36,
   "metadata": {},
   "outputs": [
    {
     "name": "stdout",
     "output_type": "stream",
     "text": [
      "                            OLS Regression Results                            \n",
      "==============================================================================\n",
      "Dep. Variable:               TARGET_D   R-squared:                       0.069\n",
      "Model:                            OLS   Adj. R-squared:                  0.062\n",
      "Method:                 Least Squares   F-statistic:                     9.299\n",
      "Date:                Sat, 29 Jun 2019   Prob (F-statistic):          4.64e-139\n",
      "Time:                        15:12:50   Log-Likelihood:                -48944.\n",
      "No. Observations:               13560   AIC:                         9.811e+04\n",
      "Df Residuals:                   13451   BIC:                         9.893e+04\n",
      "Df Model:                         108                                         \n",
      "Covariance Type:            nonrobust                                         \n",
      "==============================================================================\n",
      "                 coef    std err          t      P>|t|      [0.025      0.975]\n",
      "------------------------------------------------------------------------------\n",
      "const         73.9794      8.382      8.826      0.000      57.549      90.409\n",
      "x1            -0.0993      0.375     -0.265      0.791      -0.834       0.635\n",
      "x2             0.7450      0.488      1.526      0.127      -0.212       1.702\n",
      "x3             2.2562      0.803      2.811      0.005       0.683       3.830\n",
      "x4             1.5773      1.440      1.096      0.273      -1.245       4.400\n",
      "x5            -0.5201      0.538     -0.966      0.334      -1.575       0.535\n",
      "x6             1.0686      0.551      1.941      0.052      -0.011       2.148\n",
      "x7            -0.2814      1.627     -0.173      0.863      -3.470       2.907\n",
      "x8            73.5131      3.127     23.507      0.000      67.383      79.643\n",
      "x9             0.4733      1.395      0.339      0.734      -2.262       3.208\n",
      "x10           -1.6216      0.734     -2.209      0.027      -3.060      -0.183\n",
      "x11            0.3247      0.381      0.852      0.394      -0.422       1.071\n",
      "x12            4.7079      0.788      5.971      0.000       3.163       6.253\n",
      "x13            4.7445      0.795      5.970      0.000       3.187       6.302\n",
      "x14            4.8784      0.786      6.210      0.000       3.339       6.418\n",
      "x15           -1.4291      0.636     -2.249      0.025      -2.675      -0.183\n",
      "x16            5.7159      1.071      5.338      0.000       3.617       7.815\n",
      "x17           -1.3395      0.914     -1.466      0.143      -3.131       0.452\n",
      "x18            0.4338      0.927      0.468      0.640      -1.384       2.251\n",
      "x19            0.8379      1.254      0.668      0.504      -1.620       3.296\n",
      "x20           -0.0726      1.069     -0.068      0.946      -2.168       2.023\n",
      "x21           -1.3862      1.186     -1.169      0.243      -3.711       0.939\n",
      "x22            0.0857      1.053      0.081      0.935      -1.978       2.150\n",
      "x23           -1.1055      0.913     -1.210      0.226      -2.896       0.685\n",
      "x24           -1.7354      1.167     -1.487      0.137      -4.024       0.553\n",
      "x25           -1.6267      0.921     -1.766      0.077      -3.432       0.179\n",
      "x26            0.7232      0.487      1.486      0.137      -0.231       1.677\n",
      "x27            0.3325      0.441      0.753      0.451      -0.533       1.198\n",
      "x28            1.0658      0.487      2.188      0.029       0.111       2.021\n",
      "x29            0.2790      0.527      0.530      0.596      -0.753       1.311\n",
      "x30            0.4910      0.721      0.681      0.496      -0.921       1.903\n",
      "x31            0.4330      0.542      0.798      0.425      -0.630       1.496\n",
      "x32            0.3090      0.568      0.544      0.586      -0.805       1.423\n",
      "x33            0.4504      0.443      1.017      0.309      -0.418       1.319\n",
      "x34           -0.6711      1.045     -0.642      0.521      -2.720       1.377\n",
      "x35            1.0184      0.599      1.701      0.089      -0.155       2.192\n",
      "x36            0.4472      0.558      0.802      0.423      -0.646       1.541\n",
      "x37            0.4457      0.650      0.685      0.493      -0.829       1.720\n",
      "x38           -0.9926      0.614     -1.618      0.106      -2.195       0.210\n",
      "x39           -0.1999      0.426     -0.469      0.639      -1.035       0.636\n",
      "x40           -0.1107      0.648     -0.171      0.864      -1.380       1.159\n",
      "x41            0.0747      0.702      0.107      0.915      -1.301       1.450\n",
      "x42            1.0946      0.434      2.519      0.012       0.243       1.946\n",
      "x43            2.0430      0.574      3.556      0.000       0.917       3.169\n",
      "x44            1.0584      0.796      1.330      0.183      -0.501       2.618\n",
      "x45           -0.1301      0.491     -0.265      0.791      -1.093       0.833\n",
      "x46            1.2282      0.675      1.818      0.069      -0.096       2.552\n",
      "x47            0.0247      0.816      0.030      0.976      -1.574       1.624\n",
      "x48            0.1719      1.001      0.172      0.864      -1.790       2.134\n",
      "x49            5.5797      0.956      5.837      0.000       3.706       7.453\n",
      "x50            7.0390      0.854      8.242      0.000       5.365       8.713\n",
      "x51            6.8628      0.848      8.095      0.000       5.201       8.525\n",
      "x52            6.9201      1.020      6.784      0.000       4.921       8.920\n",
      "x53            7.1566      0.996      7.182      0.000       5.203       9.110\n",
      "x54            7.1851      0.877      8.196      0.000       5.467       8.903\n",
      "x55            7.0629      0.768      9.191      0.000       5.557       8.569\n",
      "x56            6.1266      0.897      6.829      0.000       4.368       7.885\n",
      "x57            0.9600      0.630      1.523      0.128      -0.275       2.195\n",
      "x58            0.5038      0.502      1.003      0.316      -0.481       1.488\n",
      "x59           -0.0564      0.555     -0.102      0.919      -1.144       1.031\n",
      "x60            0.0080      0.505      0.016      0.987      -0.981       0.997\n",
      "x61            1.2396      0.555      2.233      0.026       0.152       2.328\n",
      "x62           -0.5153      0.765     -0.674      0.501      -2.015       0.984\n",
      "x63            0.9962      0.754      1.321      0.187      -0.482       2.475\n",
      "x64            0.2315      0.437      0.529      0.597      -0.626       1.089\n",
      "x65            0.3859      0.851      0.454      0.650      -1.282       2.053\n",
      "x66            0.4622      0.502      0.921      0.357      -0.521       1.446\n",
      "x67           -0.2318      1.279     -0.181      0.856      -2.739       2.276\n",
      "x68            0.7609      0.609      1.249      0.212      -0.433       1.955\n",
      "x69           -0.0733      0.180     -0.407      0.684      -0.427       0.280\n",
      "x70          -79.3638      9.026     -8.792      0.000     -97.057     -61.671\n",
      "x71          -79.1997      9.026     -8.774      0.000     -96.893     -61.507\n",
      "x72          -78.9957      9.033     -8.745      0.000     -96.701     -61.290\n",
      "x73            0.5967      0.334      1.785      0.074      -0.059       1.252\n",
      "x74            0.8689      0.370      2.349      0.019       0.144       1.594\n",
      "x75            0.8932      0.350      2.554      0.011       0.208       1.579\n",
      "x76            1.1979      0.298      4.023      0.000       0.614       1.782\n",
      "x77            1.4766      0.398      3.710      0.000       0.696       2.257\n",
      "x78            1.2962      0.404      3.206      0.001       0.504       2.089\n",
      "x79            0.0423      0.165      0.256      0.798      -0.281       0.366\n",
      "x80           -0.4170      0.567     -0.736      0.462      -1.528       0.694\n",
      "x81           -0.8357      0.557     -1.500      0.134      -1.927       0.256\n",
      "x82           -0.0329      0.553     -0.059      0.953      -1.118       1.052\n",
      "x83           -0.2294      0.563     -0.408      0.684      -1.333       0.874\n",
      "x84           -0.4682      0.555     -0.843      0.399      -1.557       0.620\n",
      "x85           -0.0173      0.557     -0.031      0.975      -1.109       1.074\n",
      "x86           -0.0239      0.549     -0.044      0.965      -1.100       1.053\n",
      "x87            0.0628      0.551      0.114      0.909      -1.018       1.144\n",
      "x88           -0.3795      0.475     -0.799      0.424      -1.310       0.551\n",
      "x89            0.7681      0.214      3.584      0.000       0.348       1.188\n",
      "x90           -1.7737      1.806     -0.982      0.326      -5.313       1.766\n",
      "x91            0.4708      0.270      1.746      0.081      -0.058       0.999\n",
      "x92            0.4295      0.324      1.327      0.185      -0.205       1.064\n",
      "x93            0.4778      0.388      1.232      0.218      -0.282       1.238\n",
      "x94            0.3105      0.712      0.436      0.663      -1.084       1.705\n",
      "x95            4.8378      1.664      2.907      0.004       1.576       8.100\n",
      "x96            2.2656      1.877      1.207      0.227      -1.414       5.945\n",
      "x97            2.7213      1.619      1.681      0.093      -0.452       5.894\n",
      "x98           -0.2835      0.370     -0.767      0.443      -1.008       0.441\n",
      "x99           -1.4968      1.612     -0.928      0.353      -4.657       1.664\n",
      "x100          -2.4259      5.203     -0.466      0.641     -12.624       7.772\n",
      "x101           0.0423      3.423      0.012      0.990      -6.667       6.751\n",
      "x102          -1.6286      1.118     -1.457      0.145      -3.820       0.563\n",
      "x103           6.7564      5.198      1.300      0.194      -3.433      16.946\n",
      "x104          -1.4521      9.003     -0.161      0.872     -19.100      16.196\n",
      "x105           0.7649      0.547      1.399      0.162      -0.307       1.837\n",
      "x106          -0.4153      0.615     -0.676      0.499      -1.620       0.789\n",
      "x107           0.1395      0.675      0.207      0.836      -1.184       1.463\n",
      "x108          -0.0416      1.208     -0.034      0.973      -2.409       2.326\n",
      "x109           2.0279      2.204      0.920      0.357      -2.292       6.347\n",
      "x110           1.7624      1.832      0.962      0.336      -1.828       5.353\n",
      "x111           1.9099      1.836      1.040      0.298      -1.689       5.508\n",
      "x112           1.8136      1.841      0.985      0.325      -1.794       5.422\n",
      "==============================================================================\n",
      "Omnibus:                    12914.375   Durbin-Watson:                   2.013\n",
      "Prob(Omnibus):                  0.000   Jarque-Bera (JB):          1301120.355\n",
      "Skew:                           4.330   Prob(JB):                         0.00\n",
      "Kurtosis:                      50.200   Cond. No.                     1.12e+16\n",
      "==============================================================================\n",
      "\n",
      "Warnings:\n",
      "[1] Standard Errors assume that the covariance matrix of the errors is correctly specified.\n",
      "[2] The smallest eigenvalue is 5.67e-28. This might indicate that there are\n",
      "strong multicollinearity problems or that the design matrix is singular.\n"
     ]
    }
   ],
   "source": [
    "import statsmodels.api as sm\n",
    "from scipy import stats\n",
    "\n",
    "X_train_sm = sm.add_constant(X_data_train)\n",
    "est = sm.OLS(y_data_train, X_train_sm)\n",
    "est2 = est.fit()\n",
    "print(est2.summary())"
   ]
  },
  {
   "cell_type": "code",
   "execution_count": 37,
   "metadata": {},
   "outputs": [],
   "source": [
    "values = pd.DataFrame(est2.pvalues)\n",
    "values.reset_index(level=0, inplace=True)\n",
    "values = values.rename(index=str, columns={\"index\": \"Col_coef\", 0:\"p_val\"})\n",
    "values = values.drop(values.index[[0]])\n",
    "values.index = np.arange(1, len(values) + 1)"
   ]
  },
  {
   "cell_type": "code",
   "execution_count": 38,
   "metadata": {},
   "outputs": [],
   "source": [
    "X = pd.DataFrame(X_data_dum.columns)\n",
    "X = X.rename(index=str, columns={0: \"Col_Name\"})\n",
    "X.index = np.arange(1, len(X) + 1)"
   ]
  },
  {
   "cell_type": "code",
   "execution_count": 39,
   "metadata": {},
   "outputs": [],
   "source": [
    "data_check = pd.concat([X,values],axis=1)"
   ]
  },
  {
   "cell_type": "code",
   "execution_count": 40,
   "metadata": {},
   "outputs": [
    {
     "data": {
      "text/html": [
       "<div>\n",
       "<style scoped>\n",
       "    .dataframe tbody tr th:only-of-type {\n",
       "        vertical-align: middle;\n",
       "    }\n",
       "\n",
       "    .dataframe tbody tr th {\n",
       "        vertical-align: top;\n",
       "    }\n",
       "\n",
       "    .dataframe thead th {\n",
       "        text-align: right;\n",
       "    }\n",
       "</style>\n",
       "<table border=\"1\" class=\"dataframe\">\n",
       "  <thead>\n",
       "    <tr style=\"text-align: right;\">\n",
       "      <th></th>\n",
       "      <th>Col_Name</th>\n",
       "      <th>Col_coef</th>\n",
       "      <th>p_val</th>\n",
       "    </tr>\n",
       "  </thead>\n",
       "  <tbody>\n",
       "    <tr>\n",
       "      <th>3</th>\n",
       "      <td>MEDIAN_HOME_VALUE</td>\n",
       "      <td>x3</td>\n",
       "      <td>4.951309e-03</td>\n",
       "    </tr>\n",
       "    <tr>\n",
       "      <th>8</th>\n",
       "      <td>LAST_GIFT_AMT</td>\n",
       "      <td>x8</td>\n",
       "      <td>8.767217e-120</td>\n",
       "    </tr>\n",
       "    <tr>\n",
       "      <th>10</th>\n",
       "      <td>MONTHS_SINCE_LAST_GIFT</td>\n",
       "      <td>x10</td>\n",
       "      <td>2.716752e-02</td>\n",
       "    </tr>\n",
       "    <tr>\n",
       "      <th>12</th>\n",
       "      <td>URBANICITY_C</td>\n",
       "      <td>x12</td>\n",
       "      <td>2.411858e-09</td>\n",
       "    </tr>\n",
       "    <tr>\n",
       "      <th>13</th>\n",
       "      <td>URBANICITY_R</td>\n",
       "      <td>x13</td>\n",
       "      <td>2.429351e-09</td>\n",
       "    </tr>\n",
       "    <tr>\n",
       "      <th>14</th>\n",
       "      <td>URBANICITY_S</td>\n",
       "      <td>x14</td>\n",
       "      <td>5.441396e-10</td>\n",
       "    </tr>\n",
       "    <tr>\n",
       "      <th>15</th>\n",
       "      <td>URBANICITY_T</td>\n",
       "      <td>x15</td>\n",
       "      <td>2.455993e-02</td>\n",
       "    </tr>\n",
       "    <tr>\n",
       "      <th>16</th>\n",
       "      <td>URBANICITY_U</td>\n",
       "      <td>x16</td>\n",
       "      <td>9.544491e-08</td>\n",
       "    </tr>\n",
       "    <tr>\n",
       "      <th>28</th>\n",
       "      <td>CLUSTER_CODE_13.0</td>\n",
       "      <td>x28</td>\n",
       "      <td>2.868203e-02</td>\n",
       "    </tr>\n",
       "    <tr>\n",
       "      <th>42</th>\n",
       "      <td>CLUSTER_CODE_27.0</td>\n",
       "      <td>x42</td>\n",
       "      <td>1.176577e-02</td>\n",
       "    </tr>\n",
       "    <tr>\n",
       "      <th>43</th>\n",
       "      <td>CLUSTER_CODE_28.0</td>\n",
       "      <td>x43</td>\n",
       "      <td>3.775362e-04</td>\n",
       "    </tr>\n",
       "    <tr>\n",
       "      <th>49</th>\n",
       "      <td>CLUSTER_CODE_34.0</td>\n",
       "      <td>x49</td>\n",
       "      <td>5.427465e-09</td>\n",
       "    </tr>\n",
       "    <tr>\n",
       "      <th>50</th>\n",
       "      <td>CLUSTER_CODE_35.0</td>\n",
       "      <td>x50</td>\n",
       "      <td>1.845849e-16</td>\n",
       "    </tr>\n",
       "    <tr>\n",
       "      <th>51</th>\n",
       "      <td>CLUSTER_CODE_36.0</td>\n",
       "      <td>x51</td>\n",
       "      <td>6.237433e-16</td>\n",
       "    </tr>\n",
       "    <tr>\n",
       "      <th>52</th>\n",
       "      <td>CLUSTER_CODE_37.0</td>\n",
       "      <td>x52</td>\n",
       "      <td>1.217663e-11</td>\n",
       "    </tr>\n",
       "    <tr>\n",
       "      <th>53</th>\n",
       "      <td>CLUSTER_CODE_38.0</td>\n",
       "      <td>x53</td>\n",
       "      <td>7.246588e-13</td>\n",
       "    </tr>\n",
       "    <tr>\n",
       "      <th>54</th>\n",
       "      <td>CLUSTER_CODE_39.0</td>\n",
       "      <td>x54</td>\n",
       "      <td>2.707413e-16</td>\n",
       "    </tr>\n",
       "    <tr>\n",
       "      <th>55</th>\n",
       "      <td>CLUSTER_CODE_40.0</td>\n",
       "      <td>x55</td>\n",
       "      <td>4.463030e-20</td>\n",
       "    </tr>\n",
       "    <tr>\n",
       "      <th>56</th>\n",
       "      <td>CLUSTER_CODE_41.0</td>\n",
       "      <td>x56</td>\n",
       "      <td>8.934519e-12</td>\n",
       "    </tr>\n",
       "    <tr>\n",
       "      <th>61</th>\n",
       "      <td>CLUSTER_CODE_46.0</td>\n",
       "      <td>x61</td>\n",
       "      <td>2.555551e-02</td>\n",
       "    </tr>\n",
       "    <tr>\n",
       "      <th>70</th>\n",
       "      <td>DONOR_GENDER_F</td>\n",
       "      <td>x70</td>\n",
       "      <td>1.640777e-18</td>\n",
       "    </tr>\n",
       "    <tr>\n",
       "      <th>71</th>\n",
       "      <td>DONOR_GENDER_M</td>\n",
       "      <td>x71</td>\n",
       "      <td>1.926550e-18</td>\n",
       "    </tr>\n",
       "    <tr>\n",
       "      <th>72</th>\n",
       "      <td>DONOR_GENDER_U</td>\n",
       "      <td>x72</td>\n",
       "      <td>2.485196e-18</td>\n",
       "    </tr>\n",
       "    <tr>\n",
       "      <th>74</th>\n",
       "      <td>INCOME_GROUP_3.0</td>\n",
       "      <td>x74</td>\n",
       "      <td>1.883838e-02</td>\n",
       "    </tr>\n",
       "    <tr>\n",
       "      <th>75</th>\n",
       "      <td>INCOME_GROUP_4.0</td>\n",
       "      <td>x75</td>\n",
       "      <td>1.065329e-02</td>\n",
       "    </tr>\n",
       "    <tr>\n",
       "      <th>76</th>\n",
       "      <td>INCOME_GROUP_5.0</td>\n",
       "      <td>x76</td>\n",
       "      <td>5.787643e-05</td>\n",
       "    </tr>\n",
       "    <tr>\n",
       "      <th>77</th>\n",
       "      <td>INCOME_GROUP_6.0</td>\n",
       "      <td>x77</td>\n",
       "      <td>2.079930e-04</td>\n",
       "    </tr>\n",
       "    <tr>\n",
       "      <th>78</th>\n",
       "      <td>INCOME_GROUP_7.0</td>\n",
       "      <td>x78</td>\n",
       "      <td>1.348650e-03</td>\n",
       "    </tr>\n",
       "    <tr>\n",
       "      <th>89</th>\n",
       "      <td>PEP_STAR_1</td>\n",
       "      <td>x89</td>\n",
       "      <td>3.393119e-04</td>\n",
       "    </tr>\n",
       "    <tr>\n",
       "      <th>95</th>\n",
       "      <td>recency_freq_status_E2</td>\n",
       "      <td>x95</td>\n",
       "      <td>3.655630e-03</td>\n",
       "    </tr>\n",
       "  </tbody>\n",
       "</table>\n",
       "</div>"
      ],
      "text/plain": [
       "                  Col_Name Col_coef          p_val\n",
       "3        MEDIAN_HOME_VALUE       x3   4.951309e-03\n",
       "8            LAST_GIFT_AMT       x8  8.767217e-120\n",
       "10  MONTHS_SINCE_LAST_GIFT      x10   2.716752e-02\n",
       "12            URBANICITY_C      x12   2.411858e-09\n",
       "13            URBANICITY_R      x13   2.429351e-09\n",
       "14            URBANICITY_S      x14   5.441396e-10\n",
       "15            URBANICITY_T      x15   2.455993e-02\n",
       "16            URBANICITY_U      x16   9.544491e-08\n",
       "28       CLUSTER_CODE_13.0      x28   2.868203e-02\n",
       "42       CLUSTER_CODE_27.0      x42   1.176577e-02\n",
       "43       CLUSTER_CODE_28.0      x43   3.775362e-04\n",
       "49       CLUSTER_CODE_34.0      x49   5.427465e-09\n",
       "50       CLUSTER_CODE_35.0      x50   1.845849e-16\n",
       "51       CLUSTER_CODE_36.0      x51   6.237433e-16\n",
       "52       CLUSTER_CODE_37.0      x52   1.217663e-11\n",
       "53       CLUSTER_CODE_38.0      x53   7.246588e-13\n",
       "54       CLUSTER_CODE_39.0      x54   2.707413e-16\n",
       "55       CLUSTER_CODE_40.0      x55   4.463030e-20\n",
       "56       CLUSTER_CODE_41.0      x56   8.934519e-12\n",
       "61       CLUSTER_CODE_46.0      x61   2.555551e-02\n",
       "70          DONOR_GENDER_F      x70   1.640777e-18\n",
       "71          DONOR_GENDER_M      x71   1.926550e-18\n",
       "72          DONOR_GENDER_U      x72   2.485196e-18\n",
       "74        INCOME_GROUP_3.0      x74   1.883838e-02\n",
       "75        INCOME_GROUP_4.0      x75   1.065329e-02\n",
       "76        INCOME_GROUP_5.0      x76   5.787643e-05\n",
       "77        INCOME_GROUP_6.0      x77   2.079930e-04\n",
       "78        INCOME_GROUP_7.0      x78   1.348650e-03\n",
       "89              PEP_STAR_1      x89   3.393119e-04\n",
       "95  recency_freq_status_E2      x95   3.655630e-03"
      ]
     },
     "execution_count": 40,
     "metadata": {},
     "output_type": "execute_result"
    }
   ],
   "source": [
    "y = data_check[data_check.p_val < 0.05]\n",
    "y"
   ]
  },
  {
   "cell_type": "markdown",
   "metadata": {},
   "source": [
    "<font size=3, color=red> Selecting important feature variables which are important for prediction </font> \n",
    "\n",
    "\n",
    "MEDIAN_HOME_VALUE  \n",
    "LAST_GIFT_AMT  \n",
    "MONTHS_SINCE_LAST_GIFT  \n",
    "DONOR_GENDER  \n",
    "PEP_STAR  \n",
    "\n",
    "p-Values for others are very insignificant causing a very low R^2 value"
   ]
  },
  {
   "cell_type": "markdown",
   "metadata": {},
   "source": [
    "<font size=3, color=red> Improving the Model further: </font>\n",
    "\n",
    "1. Using kNN Regressor\n",
    "2. Using LASSO Regression\n",
    "3. Using Decision Tree Regression "
   ]
  },
  {
   "cell_type": "code",
   "execution_count": 41,
   "metadata": {},
   "outputs": [
    {
     "data": {
      "text/plain": [
       "LinearRegression(copy_X=True, fit_intercept=True, n_jobs=None,\n",
       "         normalize=False)"
      ]
     },
     "execution_count": 41,
     "metadata": {},
     "output_type": "execute_result"
    }
   ],
   "source": [
    "from sklearn import linear_model\n",
    "\n",
    "lin_mod = linear_model.LinearRegression(fit_intercept = True)\n",
    "lin_mod.fit(X_data_train, y_data_train)"
   ]
  },
  {
   "cell_type": "code",
   "execution_count": 42,
   "metadata": {},
   "outputs": [
    {
     "name": "stdout",
     "output_type": "stream",
     "text": [
      "0.06827989758462483\n",
      "-0.14183140849230114\n"
     ]
    }
   ],
   "source": [
    "print(lin_mod.score(X_data_train, y_data_train))\n",
    "print(lin_mod.score(X_data_test, y_data_test))"
   ]
  },
  {
   "cell_type": "markdown",
   "metadata": {},
   "source": [
    "# Question 4 - Compare the Linear Regression Model versus other Machine Learning Methods"
   ]
  },
  {
   "cell_type": "markdown",
   "metadata": {},
   "source": [
    "##### kNN Regressor"
   ]
  },
  {
   "cell_type": "code",
   "execution_count": 43,
   "metadata": {},
   "outputs": [
    {
     "data": {
      "text/plain": [
       "GridSearchCV(cv=10, error_score='raise-deprecating',\n",
       "       estimator=KNeighborsRegressor(algorithm='auto', leaf_size=30, metric='minkowski',\n",
       "          metric_params=None, n_jobs=None, n_neighbors=5, p=2,\n",
       "          weights='uniform'),\n",
       "       fit_params=None, iid='warn', n_jobs=-1,\n",
       "       param_grid={'n_neighbors': [1, 3, 5, 10, 15]},\n",
       "       pre_dispatch='2*n_jobs', refit=True, return_train_score='warn',\n",
       "       scoring='r2', verbose=0)"
      ]
     },
     "execution_count": 43,
     "metadata": {},
     "output_type": "execute_result"
    }
   ],
   "source": [
    "from sklearn.neighbors import KNeighborsRegressor\n",
    "from sklearn.model_selection import GridSearchCV\n",
    "knnScoring =  'r2'\n",
    "param_grid = {\"n_neighbors\":[1,3,5,10,15]}\n",
    "knnr = KNeighborsRegressor()\n",
    "\n",
    "## Perform the grid search over the parameters\n",
    "grid_knnr = GridSearchCV(estimator = knnr, param_grid = param_grid, cv = 10, scoring = knnScoring, n_jobs=-1)\n",
    "grid_knnr.fit(X_data_train, y_data_train)"
   ]
  },
  {
   "cell_type": "code",
   "execution_count": 44,
   "metadata": {},
   "outputs": [
    {
     "name": "stdout",
     "output_type": "stream",
     "text": [
      "15\n",
      "-0.04764627883178117\n"
     ]
    }
   ],
   "source": [
    "print(grid_knnr.best_estimator_.n_neighbors)\n",
    "print(grid_knnr.best_score_)"
   ]
  },
  {
   "cell_type": "code",
   "execution_count": 45,
   "metadata": {},
   "outputs": [
    {
     "name": "stdout",
     "output_type": "stream",
     "text": [
      "0.08976103179601569\n",
      "-0.04869523875968795\n"
     ]
    }
   ],
   "source": [
    "print(grid_knnr.score(X_data_train, y_data_train))\n",
    "print(grid_knnr.score(X_data_test, y_data_test))"
   ]
  },
  {
   "cell_type": "markdown",
   "metadata": {},
   "source": [
    "##### LASSO Regressor"
   ]
  },
  {
   "cell_type": "code",
   "execution_count": 46,
   "metadata": {},
   "outputs": [
    {
     "name": "stderr",
     "output_type": "stream",
     "text": [
      "C:\\Users\\vijay\\AppData\\Local\\Continuum\\anaconda3\\lib\\site-packages\\sklearn\\linear_model\\coordinate_descent.py:492: ConvergenceWarning: Objective did not converge. You might want to increase the number of iterations. Fitting data with very small alpha may cause precision problems.\n",
      "  ConvergenceWarning)\n",
      "C:\\Users\\vijay\\AppData\\Local\\Continuum\\anaconda3\\lib\\site-packages\\sklearn\\linear_model\\coordinate_descent.py:492: ConvergenceWarning: Objective did not converge. You might want to increase the number of iterations. Fitting data with very small alpha may cause precision problems.\n",
      "  ConvergenceWarning)\n",
      "C:\\Users\\vijay\\AppData\\Local\\Continuum\\anaconda3\\lib\\site-packages\\sklearn\\linear_model\\coordinate_descent.py:492: ConvergenceWarning: Objective did not converge. You might want to increase the number of iterations. Fitting data with very small alpha may cause precision problems.\n",
      "  ConvergenceWarning)\n",
      "C:\\Users\\vijay\\AppData\\Local\\Continuum\\anaconda3\\lib\\site-packages\\sklearn\\linear_model\\coordinate_descent.py:492: ConvergenceWarning: Objective did not converge. You might want to increase the number of iterations. Fitting data with very small alpha may cause precision problems.\n",
      "  ConvergenceWarning)\n",
      "C:\\Users\\vijay\\AppData\\Local\\Continuum\\anaconda3\\lib\\site-packages\\sklearn\\linear_model\\coordinate_descent.py:492: ConvergenceWarning: Objective did not converge. You might want to increase the number of iterations. Fitting data with very small alpha may cause precision problems.\n",
      "  ConvergenceWarning)\n",
      "C:\\Users\\vijay\\AppData\\Local\\Continuum\\anaconda3\\lib\\site-packages\\sklearn\\linear_model\\coordinate_descent.py:492: ConvergenceWarning: Objective did not converge. You might want to increase the number of iterations. Fitting data with very small alpha may cause precision problems.\n",
      "  ConvergenceWarning)\n",
      "C:\\Users\\vijay\\AppData\\Local\\Continuum\\anaconda3\\lib\\site-packages\\sklearn\\linear_model\\coordinate_descent.py:492: ConvergenceWarning: Objective did not converge. You might want to increase the number of iterations. Fitting data with very small alpha may cause precision problems.\n",
      "  ConvergenceWarning)\n",
      "C:\\Users\\vijay\\AppData\\Local\\Continuum\\anaconda3\\lib\\site-packages\\sklearn\\linear_model\\coordinate_descent.py:492: ConvergenceWarning: Objective did not converge. You might want to increase the number of iterations. Fitting data with very small alpha may cause precision problems.\n",
      "  ConvergenceWarning)\n",
      "C:\\Users\\vijay\\AppData\\Local\\Continuum\\anaconda3\\lib\\site-packages\\sklearn\\linear_model\\coordinate_descent.py:492: ConvergenceWarning: Objective did not converge. You might want to increase the number of iterations. Fitting data with very small alpha may cause precision problems.\n",
      "  ConvergenceWarning)\n",
      "C:\\Users\\vijay\\AppData\\Local\\Continuum\\anaconda3\\lib\\site-packages\\sklearn\\linear_model\\coordinate_descent.py:492: ConvergenceWarning: Objective did not converge. You might want to increase the number of iterations. Fitting data with very small alpha may cause precision problems.\n",
      "  ConvergenceWarning)\n",
      "C:\\Users\\vijay\\AppData\\Local\\Continuum\\anaconda3\\lib\\site-packages\\sklearn\\linear_model\\coordinate_descent.py:492: ConvergenceWarning: Objective did not converge. You might want to increase the number of iterations. Fitting data with very small alpha may cause precision problems.\n",
      "  ConvergenceWarning)\n",
      "C:\\Users\\vijay\\AppData\\Local\\Continuum\\anaconda3\\lib\\site-packages\\sklearn\\linear_model\\coordinate_descent.py:492: ConvergenceWarning: Objective did not converge. You might want to increase the number of iterations. Fitting data with very small alpha may cause precision problems.\n",
      "  ConvergenceWarning)\n",
      "C:\\Users\\vijay\\AppData\\Local\\Continuum\\anaconda3\\lib\\site-packages\\sklearn\\linear_model\\coordinate_descent.py:492: ConvergenceWarning: Objective did not converge. You might want to increase the number of iterations. Fitting data with very small alpha may cause precision problems.\n",
      "  ConvergenceWarning)\n",
      "C:\\Users\\vijay\\AppData\\Local\\Continuum\\anaconda3\\lib\\site-packages\\sklearn\\linear_model\\coordinate_descent.py:492: ConvergenceWarning: Objective did not converge. You might want to increase the number of iterations. Fitting data with very small alpha may cause precision problems.\n",
      "  ConvergenceWarning)\n",
      "C:\\Users\\vijay\\AppData\\Local\\Continuum\\anaconda3\\lib\\site-packages\\sklearn\\linear_model\\coordinate_descent.py:492: ConvergenceWarning: Objective did not converge. You might want to increase the number of iterations. Fitting data with very small alpha may cause precision problems.\n",
      "  ConvergenceWarning)\n",
      "C:\\Users\\vijay\\AppData\\Local\\Continuum\\anaconda3\\lib\\site-packages\\sklearn\\linear_model\\coordinate_descent.py:492: ConvergenceWarning: Objective did not converge. You might want to increase the number of iterations. Fitting data with very small alpha may cause precision problems.\n",
      "  ConvergenceWarning)\n",
      "C:\\Users\\vijay\\AppData\\Local\\Continuum\\anaconda3\\lib\\site-packages\\sklearn\\linear_model\\coordinate_descent.py:492: ConvergenceWarning: Objective did not converge. You might want to increase the number of iterations. Fitting data with very small alpha may cause precision problems.\n",
      "  ConvergenceWarning)\n",
      "C:\\Users\\vijay\\AppData\\Local\\Continuum\\anaconda3\\lib\\site-packages\\sklearn\\linear_model\\coordinate_descent.py:492: ConvergenceWarning: Objective did not converge. You might want to increase the number of iterations. Fitting data with very small alpha may cause precision problems.\n",
      "  ConvergenceWarning)\n",
      "C:\\Users\\vijay\\AppData\\Local\\Continuum\\anaconda3\\lib\\site-packages\\sklearn\\linear_model\\coordinate_descent.py:492: ConvergenceWarning: Objective did not converge. You might want to increase the number of iterations. Fitting data with very small alpha may cause precision problems.\n",
      "  ConvergenceWarning)\n",
      "C:\\Users\\vijay\\AppData\\Local\\Continuum\\anaconda3\\lib\\site-packages\\sklearn\\linear_model\\coordinate_descent.py:492: ConvergenceWarning: Objective did not converge. You might want to increase the number of iterations. Fitting data with very small alpha may cause precision problems.\n",
      "  ConvergenceWarning)\n",
      "C:\\Users\\vijay\\AppData\\Local\\Continuum\\anaconda3\\lib\\site-packages\\sklearn\\linear_model\\coordinate_descent.py:492: ConvergenceWarning: Objective did not converge. You might want to increase the number of iterations. Fitting data with very small alpha may cause precision problems.\n",
      "  ConvergenceWarning)\n",
      "C:\\Users\\vijay\\AppData\\Local\\Continuum\\anaconda3\\lib\\site-packages\\sklearn\\linear_model\\coordinate_descent.py:492: ConvergenceWarning: Objective did not converge. You might want to increase the number of iterations. Fitting data with very small alpha may cause precision problems.\n",
      "  ConvergenceWarning)\n",
      "C:\\Users\\vijay\\AppData\\Local\\Continuum\\anaconda3\\lib\\site-packages\\sklearn\\linear_model\\coordinate_descent.py:492: ConvergenceWarning: Objective did not converge. You might want to increase the number of iterations. Fitting data with very small alpha may cause precision problems.\n",
      "  ConvergenceWarning)\n",
      "C:\\Users\\vijay\\AppData\\Local\\Continuum\\anaconda3\\lib\\site-packages\\sklearn\\linear_model\\coordinate_descent.py:492: ConvergenceWarning: Objective did not converge. You might want to increase the number of iterations. Fitting data with very small alpha may cause precision problems.\n",
      "  ConvergenceWarning)\n",
      "C:\\Users\\vijay\\AppData\\Local\\Continuum\\anaconda3\\lib\\site-packages\\sklearn\\linear_model\\coordinate_descent.py:492: ConvergenceWarning: Objective did not converge. You might want to increase the number of iterations. Fitting data with very small alpha may cause precision problems.\n",
      "  ConvergenceWarning)\n",
      "C:\\Users\\vijay\\AppData\\Local\\Continuum\\anaconda3\\lib\\site-packages\\sklearn\\linear_model\\coordinate_descent.py:492: ConvergenceWarning: Objective did not converge. You might want to increase the number of iterations. Fitting data with very small alpha may cause precision problems.\n",
      "  ConvergenceWarning)\n",
      "C:\\Users\\vijay\\AppData\\Local\\Continuum\\anaconda3\\lib\\site-packages\\sklearn\\linear_model\\coordinate_descent.py:492: ConvergenceWarning: Objective did not converge. You might want to increase the number of iterations. Fitting data with very small alpha may cause precision problems.\n",
      "  ConvergenceWarning)\n",
      "C:\\Users\\vijay\\AppData\\Local\\Continuum\\anaconda3\\lib\\site-packages\\sklearn\\linear_model\\coordinate_descent.py:492: ConvergenceWarning: Objective did not converge. You might want to increase the number of iterations. Fitting data with very small alpha may cause precision problems.\n",
      "  ConvergenceWarning)\n"
     ]
    },
    {
     "data": {
      "text/plain": [
       "GridSearchCV(cv=10, error_score='raise-deprecating',\n",
       "       estimator=Lasso(alpha=1.0, copy_X=True, fit_intercept=True, max_iter=1000,\n",
       "   normalize=False, positive=False, precompute=False, random_state=None,\n",
       "   selection='cyclic', tol=0.0001, warm_start=False),\n",
       "       fit_params=None, iid='warn', n_jobs=None,\n",
       "       param_grid={'alpha': [0.02, 0.005, 0.002, 0.001, 1e-05]},\n",
       "       pre_dispatch='2*n_jobs', refit=True, return_train_score='warn',\n",
       "       scoring='r2', verbose=0)"
      ]
     },
     "execution_count": 46,
     "metadata": {},
     "output_type": "execute_result"
    }
   ],
   "source": [
    "from sklearn.linear_model import Lasso\n",
    "param_grid = {\"alpha\":[1.0/50.0, 1.0/200.0, 1.0/500.0, 1.0/1000.0,.00001]}\n",
    "grid_lasso = GridSearchCV(Lasso(), param_grid = param_grid, cv = 10, scoring = 'r2')\n",
    "\n",
    "grid_lasso.fit(X_data_train, y_data_train)"
   ]
  },
  {
   "cell_type": "code",
   "execution_count": 47,
   "metadata": {},
   "outputs": [
    {
     "name": "stdout",
     "output_type": "stream",
     "text": [
      "0.036928163186890454\n",
      "{'alpha': 0.005}\n"
     ]
    }
   ],
   "source": [
    "print(grid_lasso.best_score_)\n",
    "print(grid_lasso.best_params_)"
   ]
  },
  {
   "cell_type": "code",
   "execution_count": 48,
   "metadata": {},
   "outputs": [
    {
     "name": "stdout",
     "output_type": "stream",
     "text": [
      "0.06161085772916497\n",
      "-0.10222307390994145\n"
     ]
    }
   ],
   "source": [
    "print(grid_lasso.score(X_data_train, y_data_train))\n",
    "print(grid_lasso.score(X_data_test, y_data_test))"
   ]
  },
  {
   "cell_type": "markdown",
   "metadata": {},
   "source": [
    "##### Decision Tree Regressor"
   ]
  },
  {
   "cell_type": "code",
   "execution_count": 49,
   "metadata": {},
   "outputs": [
    {
     "data": {
      "text/plain": [
       "DecisionTreeRegressor(criterion='mse', max_depth=None, max_features=None,\n",
       "           max_leaf_nodes=None, min_impurity_decrease=0.0,\n",
       "           min_impurity_split=None, min_samples_leaf=1,\n",
       "           min_samples_split=2, min_weight_fraction_leaf=0.0,\n",
       "           presort=False, random_state=None, splitter='best')"
      ]
     },
     "execution_count": 49,
     "metadata": {},
     "output_type": "execute_result"
    }
   ],
   "source": [
    "from sklearn.tree import DecisionTreeRegressor\n",
    "tree = DecisionTreeRegressor()\n",
    "tree.fit(X_data_train, y_data_train)"
   ]
  },
  {
   "cell_type": "code",
   "execution_count": 50,
   "metadata": {},
   "outputs": [
    {
     "name": "stdout",
     "output_type": "stream",
     "text": [
      "1.0\n",
      "-3.6791283561022805\n"
     ]
    }
   ],
   "source": [
    "print(tree.score(X_data_train, y_data_train))\n",
    "print(tree.score(X_data_test, y_data_test))"
   ]
  },
  {
   "cell_type": "code",
   "execution_count": 51,
   "metadata": {},
   "outputs": [],
   "source": [
    "report_table = [['LR', ' ', lin_mod.score(X_data_train, y_data_train), lin_mod.score(X_data_test, y_data_test)]]\n",
    "report_table = report_table + [['knnr', 'k = 15', grid_knnr.score(X_data_train, y_data_train), grid_knnr.score(X_data_test, y_data_test)]]\n",
    "report_table = report_table + [['Lasso', 'alpha = 0.005', grid_lasso.score(X_data_train, y_data_train), grid_lasso.score(X_data_test, y_data_test)]]\n",
    "report_table = report_table + [['DecisionTree', ' ', tree.score(X_data_train, y_data_train), tree.score(X_data_test, y_data_test)]]"
   ]
  },
  {
   "cell_type": "code",
   "execution_count": 52,
   "metadata": {},
   "outputs": [
    {
     "data": {
      "text/html": [
       "<div>\n",
       "<style scoped>\n",
       "    .dataframe tbody tr th:only-of-type {\n",
       "        vertical-align: middle;\n",
       "    }\n",
       "\n",
       "    .dataframe tbody tr th {\n",
       "        vertical-align: top;\n",
       "    }\n",
       "\n",
       "    .dataframe thead th {\n",
       "        text-align: right;\n",
       "    }\n",
       "</style>\n",
       "<table border=\"1\" class=\"dataframe\">\n",
       "  <thead>\n",
       "    <tr style=\"text-align: right;\">\n",
       "      <th></th>\n",
       "      <th>Model parameter</th>\n",
       "      <th>Train accuracy</th>\n",
       "      <th>Test accuracy</th>\n",
       "    </tr>\n",
       "    <tr>\n",
       "      <th>Model name</th>\n",
       "      <th></th>\n",
       "      <th></th>\n",
       "      <th></th>\n",
       "    </tr>\n",
       "  </thead>\n",
       "  <tbody>\n",
       "    <tr>\n",
       "      <th>LR</th>\n",
       "      <td></td>\n",
       "      <td>0.068280</td>\n",
       "      <td>-0.141831</td>\n",
       "    </tr>\n",
       "    <tr>\n",
       "      <th>knnr</th>\n",
       "      <td>k = 15</td>\n",
       "      <td>0.089761</td>\n",
       "      <td>-0.048695</td>\n",
       "    </tr>\n",
       "    <tr>\n",
       "      <th>Lasso</th>\n",
       "      <td>alpha = 0.005</td>\n",
       "      <td>0.061611</td>\n",
       "      <td>-0.102223</td>\n",
       "    </tr>\n",
       "    <tr>\n",
       "      <th>DecisionTree</th>\n",
       "      <td></td>\n",
       "      <td>1.000000</td>\n",
       "      <td>-3.679128</td>\n",
       "    </tr>\n",
       "  </tbody>\n",
       "</table>\n",
       "</div>"
      ],
      "text/plain": [
       "             Model parameter  Train accuracy  Test accuracy\n",
       "Model name                                                 \n",
       "LR                                  0.068280      -0.141831\n",
       "knnr                  k = 15        0.089761      -0.048695\n",
       "Lasso          alpha = 0.005        0.061611      -0.102223\n",
       "DecisionTree                        1.000000      -3.679128"
      ]
     },
     "execution_count": 52,
     "metadata": {},
     "output_type": "execute_result"
    }
   ],
   "source": [
    "report = pd.DataFrame(report_table,columns = ['Model name', 'Model parameter', 'Train accuracy', 'Test accuracy'])\n",
    "report = report.set_index('Model name')\n",
    "report"
   ]
  },
  {
   "cell_type": "markdown",
   "metadata": {},
   "source": [
    "Best performing model is the kNN Regressor since it's train and test score are high. Decision Tree regressor is a highly over model. LASSO can be used to nderstand the feature selection and then the selected columns can be passed through kNN regressor for even better results. Lastly, log-transformation of the dataset will highly help in increasing the overall accuracy."
   ]
  }
 ],
 "metadata": {
  "kernelspec": {
   "display_name": "Python 3",
   "language": "python",
   "name": "python3"
  },
  "language_info": {
   "codemirror_mode": {
    "name": "ipython",
    "version": 3
   },
   "file_extension": ".py",
   "mimetype": "text/x-python",
   "name": "python",
   "nbconvert_exporter": "python",
   "pygments_lexer": "ipython3",
   "version": "3.6.5"
  }
 },
 "nbformat": 4,
 "nbformat_minor": 2
}
